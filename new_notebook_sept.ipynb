{
  "nbformat": 4,
  "nbformat_minor": 0,
  "metadata": {
    "colab": {
      "provenance": [],
      "authorship_tag": "ABX9TyNF5I/wjmMA/8DbMO0Bnj4s",
      "include_colab_link": true
    },
    "kernelspec": {
      "name": "python3",
      "display_name": "Python 3"
    },
    "language_info": {
      "name": "python"
    }
  },
  "cells": [
    {
      "cell_type": "markdown",
      "metadata": {
        "id": "view-in-github",
        "colab_type": "text"
      },
      "source": [
        "<a href=\"https://colab.research.google.com/github/ravikpasupula/GoogleColab.spark/blob/main/new_notebook_sept.ipynb\" target=\"_parent\"><img src=\"https://colab.research.google.com/assets/colab-badge.svg\" alt=\"Open In Colab\"/></a>"
      ]
    },
    {
      "cell_type": "code",
      "execution_count": 1,
      "metadata": {
        "colab": {
          "base_uri": "https://localhost:8080/"
        },
        "id": "1QyzhFiksDsc",
        "outputId": "4b14558d-91ec-4a3d-e7a1-46e074db9669"
      },
      "outputs": [
        {
          "output_type": "stream",
          "name": "stdout",
          "text": [
            "Collecting pyspark\n",
            "  Downloading pyspark-3.5.2.tar.gz (317.3 MB)\n",
            "\u001b[2K     \u001b[90m━━━━━━━━━━━━━━━━━━━━━━━━━━━━━━━━━━━━━━━━\u001b[0m \u001b[32m317.3/317.3 MB\u001b[0m \u001b[31m3.9 MB/s\u001b[0m eta \u001b[36m0:00:00\u001b[0m\n",
            "\u001b[?25h  Preparing metadata (setup.py) ... \u001b[?25l\u001b[?25hdone\n",
            "Requirement already satisfied: py4j==0.10.9.7 in /usr/local/lib/python3.10/dist-packages (from pyspark) (0.10.9.7)\n",
            "Building wheels for collected packages: pyspark\n",
            "  Building wheel for pyspark (setup.py) ... \u001b[?25l\u001b[?25hdone\n",
            "  Created wheel for pyspark: filename=pyspark-3.5.2-py2.py3-none-any.whl size=317812365 sha256=9008578caa61e14b69a957a5e8e8ca1455c93a1b4149bac10927746eafa32de4\n",
            "  Stored in directory: /root/.cache/pip/wheels/34/34/bd/03944534c44b677cd5859f248090daa9fb27b3c8f8e5f49574\n",
            "Successfully built pyspark\n",
            "Installing collected packages: pyspark\n",
            "Successfully installed pyspark-3.5.2\n"
          ]
        }
      ],
      "source": [
        "!pip install pyspark"
      ]
    },
    {
      "cell_type": "code",
      "source": [
        "from pyspark.sql import SparkSession\n",
        "from pyspark.sql.window import Window\n",
        "from pyspark.sql.functions import row_number"
      ],
      "metadata": {
        "id": "4ovtLPLEsTU5"
      },
      "execution_count": 2,
      "outputs": []
    },
    {
      "cell_type": "code",
      "source": [
        "spark = SparkSession.builder.appName(\"AvoidJoinExample\").getOrCreate()\n"
      ],
      "metadata": {
        "id": "x4ZXOy4RsE-f"
      },
      "execution_count": 3,
      "outputs": []
    },
    {
      "cell_type": "code",
      "source": [
        "data = [(1, \"Alice\", \"HR\"), (2, \"Bob\", \"Engineering\"), (3, \"Cathy\", \"Finance\"), ((3, \"Cathy\", \"HR\"))]"
      ],
      "metadata": {
        "id": "ohClvfsYsaJZ"
      },
      "execution_count": 9,
      "outputs": []
    },
    {
      "cell_type": "code",
      "source": [
        "df = spark.createDataFrame(data, [\"id\", \"name\", \"department\"])"
      ],
      "metadata": {
        "id": "GqS7jOb-scTC"
      },
      "execution_count": 10,
      "outputs": []
    },
    {
      "cell_type": "code",
      "source": [
        "window_spec = Window.partitionBy(\"department\").orderBy(\"id\")"
      ],
      "metadata": {
        "id": "q4MWrGaQseiv"
      },
      "execution_count": 11,
      "outputs": []
    },
    {
      "cell_type": "code",
      "source": [
        "df_with_row_number = df.withColumn(\"row_number\", row_number().over(window_spec))\n"
      ],
      "metadata": {
        "id": "vW2FWymUsgQI"
      },
      "execution_count": 12,
      "outputs": []
    },
    {
      "cell_type": "code",
      "source": [
        "df_with_row_number.sort(\"id\", ascending=False).show()\n"
      ],
      "metadata": {
        "colab": {
          "base_uri": "https://localhost:8080/"
        },
        "id": "RnkX7I9-siCx",
        "outputId": "8d8baace-93ff-485f-d9f4-4d47e3480559"
      },
      "execution_count": 15,
      "outputs": [
        {
          "output_type": "stream",
          "name": "stdout",
          "text": [
            "+---+-----+-----------+----------+\n",
            "| id| name| department|row_number|\n",
            "+---+-----+-----------+----------+\n",
            "|  3|Cathy|    Finance|         1|\n",
            "|  3|Cathy|         HR|         2|\n",
            "|  2|  Bob|Engineering|         1|\n",
            "|  1|Alice|         HR|         1|\n",
            "+---+-----+-----------+----------+\n",
            "\n"
          ]
        }
      ]
    }
  ]
}