{
  "nbformat": 4,
  "nbformat_minor": 0,
  "metadata": {
    "colab": {
      "provenance": []
    },
    "kernelspec": {
      "name": "python3",
      "display_name": "Python 3"
    },
    "language_info": {
      "name": "python"
    }
  },
  "cells": [
    {
      "cell_type": "code",
      "execution_count": 3,
      "metadata": {
        "colab": {
          "base_uri": "https://localhost:8080/"
        },
        "id": "xf63pb1jRnZm",
        "outputId": "0115a592-a1ab-443d-9c1e-bad74001042c"
      },
      "outputs": [
        {
          "output_type": "stream",
          "name": "stdout",
          "text": [
            "Collecting pyspark\n",
            "  Downloading pyspark-3.5.1.tar.gz (317.0 MB)\n",
            "\u001b[2K     \u001b[90m━━━━━━━━━━━━━━━━━━━━━━━━━━━━━━━━━━━━━━━━\u001b[0m \u001b[32m317.0/317.0 MB\u001b[0m \u001b[31m3.5 MB/s\u001b[0m eta \u001b[36m0:00:00\u001b[0m\n",
            "\u001b[?25h  Preparing metadata (setup.py) ... \u001b[?25l\u001b[?25hdone\n",
            "Requirement already satisfied: py4j==0.10.9.7 in /usr/local/lib/python3.10/dist-packages (from pyspark) (0.10.9.7)\n",
            "Building wheels for collected packages: pyspark\n",
            "  Building wheel for pyspark (setup.py) ... \u001b[?25l\u001b[?25hdone\n",
            "  Created wheel for pyspark: filename=pyspark-3.5.1-py2.py3-none-any.whl size=317488491 sha256=9d83c87ff0acd1b3dcdfbd9f16c68a1287f6b5fd5857abef101f86720e3d1161\n",
            "  Stored in directory: /root/.cache/pip/wheels/80/1d/60/2c256ed38dddce2fdd93be545214a63e02fbd8d74fb0b7f3a6\n",
            "Successfully built pyspark\n",
            "Installing collected packages: pyspark\n",
            "Successfully installed pyspark-3.5.1\n"
          ]
        }
      ],
      "source": [
        "!pip install pyspark"
      ]
    },
    {
      "cell_type": "code",
      "source": [
        "from pyspark.sql import SparkSession\n",
        "\n",
        "spark = SparkSession.builder\\\n",
        "        .master(\"local\")\\\n",
        "        .appName(\"Spark program\")\\\n",
        "        .config('spark.ui.port', '4050')\\\n",
        "        .getOrCreate()"
      ],
      "metadata": {
        "id": "B1D0b-X5R8Xz"
      },
      "execution_count": 4,
      "outputs": []
    },
    {
      "cell_type": "code",
      "source": [
        "df = spark.read.csv('./sample_data/Weather.csv', header=True)"
      ],
      "metadata": {
        "id": "VBDuhwlgSxBh"
      },
      "execution_count": 5,
      "outputs": []
    },
    {
      "cell_type": "code",
      "source": [
        "df.printSchema()"
      ],
      "metadata": {
        "colab": {
          "base_uri": "https://localhost:8080/"
        },
        "id": "4XM-WpRhTLvf",
        "outputId": "125c315f-2ff9-4d1d-89ce-d589d2de489a"
      },
      "execution_count": 7,
      "outputs": [
        {
          "output_type": "stream",
          "name": "stdout",
          "text": [
            "root\n",
            " |-- MinTemp: string (nullable = true)\n",
            " |-- MaxTemp: string (nullable = true)\n",
            " |-- Rainfall: string (nullable = true)\n",
            " |-- Evaporation: string (nullable = true)\n",
            " |-- Sunshine: string (nullable = true)\n",
            " |-- WindGustDir: string (nullable = true)\n",
            " |-- WindGustSpeed: string (nullable = true)\n",
            " |-- WindDir9am: string (nullable = true)\n",
            " |-- WindDir3pm: string (nullable = true)\n",
            " |-- WindSpeed9am: string (nullable = true)\n",
            " |-- WindSpeed3pm: string (nullable = true)\n",
            " |-- Humidity9am: string (nullable = true)\n",
            " |-- Humidity3pm: string (nullable = true)\n",
            " |-- Pressure9am: string (nullable = true)\n",
            " |-- Pressure3pm: string (nullable = true)\n",
            " |-- Cloud9am: string (nullable = true)\n",
            " |-- Cloud3pm: string (nullable = true)\n",
            " |-- Temp9am: string (nullable = true)\n",
            " |-- Temp3pm: string (nullable = true)\n",
            " |-- RainToday: string (nullable = true)\n",
            " |-- RISK_MM: string (nullable = true)\n",
            " |-- RainTomorrow: string (nullable = true)\n",
            "\n"
          ]
        }
      ]
    },
    {
      "cell_type": "code",
      "source": [
        "df.filter(df.Rainfall > 9).show()"
      ],
      "metadata": {
        "colab": {
          "base_uri": "https://localhost:8080/"
        },
        "id": "D8G3FWl2TLuB",
        "outputId": "c97d946b-ecf0-41dc-e48f-da00e01c7986"
      },
      "execution_count": 9,
      "outputs": [
        {
          "output_type": "stream",
          "name": "stdout",
          "text": [
            "+-------+-------+--------+-----------+--------+-----------+-------------+----------+----------+------------+------------+-----------+-----------+-----------+-----------+--------+--------+-------+-------+---------+-------+------------+\n",
            "|MinTemp|MaxTemp|Rainfall|Evaporation|Sunshine|WindGustDir|WindGustSpeed|WindDir9am|WindDir3pm|WindSpeed9am|WindSpeed3pm|Humidity9am|Humidity3pm|Pressure9am|Pressure3pm|Cloud9am|Cloud3pm|Temp9am|Temp3pm|RainToday|RISK_MM|RainTomorrow|\n",
            "+-------+-------+--------+-----------+--------+-----------+-------------+----------+----------+------------+------------+-----------+-----------+-----------+-----------+--------+--------+-------+-------+---------+-------+------------+\n",
            "|   13.3|   15.5|    39.8|        7.2|     9.1|         NW|           54|       WNW|         W|          30|          24|         62|         56|     1005.5|     1007.0|       2|       7|   13.5|   14.1|      Yes|    2.8|         Yes|\n",
            "|    8.4|   22.8|    16.2|        5.4|     7.7|          E|           31|         S|       ESE|           7|           6|         82|         32|     1024.1|     1020.7|       7|       1|   13.3|   21.7|      Yes|    0.0|          No|\n",
            "|   12.8|   18.5|    25.8|        2.8|     0.6|        ESE|           28|         S|        SE|          13|          13|         91|         79|     1014.0|     1014.9|       8|       8|   14.0|   16.8|      Yes|    0.4|          No|\n",
            "|   15.1|   20.4|    22.6|        2.4|     0.2|        SSE|           41|         E|         S|           6|          20|         82|         90|     1015.0|     1014.1|       8|       8|   17.0|   16.3|      Yes|    4.2|         Yes|\n",
            "|   19.9|   22.0|    11.0|        4.4|     5.9|        NNW|           76|         N|       WNW|          41|          30|         92|         62|      996.5|      996.8|       8|       3|   20.6|   19.6|      Yes|   17.4|         Yes|\n",
            "|    9.2|   20.4|    17.4|        7.8|    10.2|        ENE|           39|         N|         N|           9|          20|         59|         49|     1009.5|     1009.1|       1|       7|   14.9|   18.8|      Yes|    0.0|          No|\n",
            "|   15.1|   28.3|    14.4|        8.8|    13.2|        NNW|           28|       NNW|        NW|           6|          13|         73|         44|     1016.8|     1013.4|       1|       5|   18.3|   27.4|      Yes|    0.0|          No|\n",
            "|   15.3|   19.6|    18.8|        5.0|       0|         NE|           33|       SSE|       NNE|           9|          13|         92|         88|     1008.7|     1006.0|       8|       8|   18.0|   18.6|      Yes|   12.2|         Yes|\n",
            "|   17.2|   24.7|    12.2|        1.4|     8.1|         NW|           50|        NW|       WNW|          19|          28|         80|         71|     1004.9|     1004.0|       7|       8|   19.4|   21.9|      Yes|    0.8|          No|\n",
            "|   12.4|   19.9|    16.2|        5.4|     5.6|        ENE|           41|       ESE|       ESE|           7|          20|         75|         58|     1007.6|     1005.0|       7|       7|   13.6|   18.7|      Yes|    0.0|          No|\n",
            "|   12.6|   18.2|    11.0|        3.2|     0.4|        ENE|           30|       SSE|       SSE|          13|          15|         81|         73|     1010.0|     1011.0|       7|       8|   16.3|   16.8|      Yes|    0.2|          No|\n",
            "|    7.7|   18.4|    10.4|        5.2|      12|          S|           48|         S|         S|          24|          17|         58|         34|     1015.5|     1014.5|       5|       1|   10.6|   16.8|      Yes|    0.0|          No|\n",
            "|   12.6|   20.2|    19.8|        2.6|     9.1|          W|           46|       NNW|         W|          17|          20|         76|         50|     1007.9|     1008.4|       5|       4|   15.1|   17.4|      Yes|    0.0|          No|\n",
            "|    2.9|    9.5|    16.8|        1.4|     6.5|         NW|           35|        NA|        NW|           0|          15|         93|         72|     1021.6|     1019.6|       6|       6|    5.5|    7.4|      Yes|    0.0|          No|\n",
            "|    2.3|   11.6|    19.2|        1.8|     7.5|        WNW|           54|       WNW|       WNW|          26|          31|         78|         56|     1006.9|     1010.3|       7|       3|    7.6|   11.2|      Yes|    0.0|          No|\n",
            "|    7.8|   16.2|    17.4|        6.4|     7.9|         NW|           50|        NW|         N|          15|          22|         73|         44|     1016.7|     1017.8|       7|       1|    8.0|   14.3|      Yes|    0.0|          No|\n",
            "|   11.9|   21.1|    13.2|        6.6|      NA|         NW|           41|       NNE|         N|           7|          24|         82|         61|     1019.2|     1016.7|       7|       3|   14.5|   19.4|      Yes|    0.6|          No|\n",
            "+-------+-------+--------+-----------+--------+-----------+-------------+----------+----------+------------+------------+-----------+-----------+-----------+-----------+--------+--------+-------+-------+---------+-------+------------+\n",
            "\n"
          ]
        }
      ]
    },
    {
      "cell_type": "code",
      "source": [
        "df.filter(df.Rainfall > 9).select('MinTemp', 'MaxTemp', 'Rainfall').show()"
      ],
      "metadata": {
        "colab": {
          "base_uri": "https://localhost:8080/"
        },
        "id": "4mqUjsNPT21T",
        "outputId": "6df500dd-6614-47a2-fc0f-c915a635c3ba"
      },
      "execution_count": 13,
      "outputs": [
        {
          "output_type": "stream",
          "name": "stdout",
          "text": [
            "+-------+-------+--------+\n",
            "|MinTemp|MaxTemp|Rainfall|\n",
            "+-------+-------+--------+\n",
            "|   13.3|   15.5|    39.8|\n",
            "|    8.4|   22.8|    16.2|\n",
            "|   12.8|   18.5|    25.8|\n",
            "|   15.1|   20.4|    22.6|\n",
            "|   19.9|   22.0|    11.0|\n",
            "|    9.2|   20.4|    17.4|\n",
            "|   15.1|   28.3|    14.4|\n",
            "|   15.3|   19.6|    18.8|\n",
            "|   17.2|   24.7|    12.2|\n",
            "|   12.4|   19.9|    16.2|\n",
            "|   12.6|   18.2|    11.0|\n",
            "|    7.7|   18.4|    10.4|\n",
            "|   12.6|   20.2|    19.8|\n",
            "|    2.9|    9.5|    16.8|\n",
            "|    2.3|   11.6|    19.2|\n",
            "|    7.8|   16.2|    17.4|\n",
            "|   11.9|   21.1|    13.2|\n",
            "+-------+-------+--------+\n",
            "\n"
          ]
        }
      ]
    },
    {
      "cell_type": "code",
      "source": [
        "from pyspark.sql.types import StructType, StructField,IntegerType, FloatType, StructType,StringType\n",
        "from pyspark.sql import functions as F\n",
        "\n",
        "NewDF = df.withColumn(\"MinTemp\",F.col(\"MinTemp\").cast(FloatType()))\\\n",
        "          .withColumn(\"MaxTemp\",F.col(\"MaxTemp\").cast(FloatType()))\\\n",
        "          .withColumn(\"Rainfall\",F.col(\"Rainfall\").cast(FloatType()))\n"
      ],
      "metadata": {
        "id": "6Vx_jY6fVchQ"
      },
      "execution_count": 66,
      "outputs": []
    },
    {
      "cell_type": "code",
      "source": [
        "NewDF = NewDF.drop('Evaporation') #drop one column from dataframe"
      ],
      "metadata": {
        "id": "LC2Zo57eeU2B"
      },
      "execution_count": 80,
      "outputs": []
    },
    {
      "cell_type": "code",
      "source": [
        "NewDF.printSchema()"
      ],
      "metadata": {
        "colab": {
          "base_uri": "https://localhost:8080/"
        },
        "id": "PL_DAaXIY40J",
        "outputId": "fa9ccb7c-6531-44c0-a793-17b47eef8797"
      },
      "execution_count": 81,
      "outputs": [
        {
          "output_type": "stream",
          "name": "stdout",
          "text": [
            "root\n",
            " |-- MinTemp: float (nullable = true)\n",
            " |-- MaxTemp: float (nullable = true)\n",
            " |-- Rainfall: float (nullable = true)\n",
            " |-- Sunshine: string (nullable = true)\n",
            " |-- WindGustDir: string (nullable = true)\n",
            " |-- WindGustSpeed: string (nullable = true)\n",
            " |-- WindDir9am: string (nullable = true)\n",
            " |-- WindDir3pm: string (nullable = true)\n",
            " |-- WindSpeed9am: string (nullable = true)\n",
            " |-- WindSpeed3pm: string (nullable = true)\n",
            " |-- Humidity9am: string (nullable = true)\n",
            " |-- Humidity3pm: string (nullable = true)\n",
            " |-- Pressure9am: string (nullable = true)\n",
            " |-- Pressure3pm: string (nullable = true)\n",
            " |-- Cloud9am: string (nullable = true)\n",
            " |-- Cloud3pm: string (nullable = true)\n",
            " |-- Temp9am: string (nullable = true)\n",
            " |-- Temp3pm: string (nullable = true)\n",
            " |-- RainToday: string (nullable = true)\n",
            " |-- RISK_MM: string (nullable = true)\n",
            " |-- RainTomorrow: string (nullable = true)\n",
            "\n"
          ]
        }
      ]
    },
    {
      "cell_type": "code",
      "source": [
        "# List all columns in a dataframe\n",
        "NewDF.columns\n",
        "\n",
        "#drop multiple columns in a dataframe\n",
        "NewDF = NewDF.drop('Evaporation')\n",
        "\n",
        "#drop multiple columns in a dataframe\n",
        "NewDF = NewDF.drop(*('Sunshine',\n",
        " 'WindGustDir',\n",
        " 'WindGustSpeed',\n",
        " 'WindDir9am',\n",
        " 'WindDir3pm',\n",
        " 'WindSpeed9am',\n",
        " 'WindSpeed3pm',\n",
        " 'Humidity9am',\n",
        " 'Humidity3pm',\n",
        " 'Pressure9am',\n",
        " 'Pressure3pm',\n",
        " 'Cloud9am',\n",
        " 'Cloud3pm',\n",
        " 'Temp9am',\n",
        " 'Temp3pm',\n",
        " 'RainToday',\n",
        " 'RISK_MM',\n",
        " 'RainTomorrow'))"
      ],
      "metadata": {
        "id": "YELJjkcqZcFv"
      },
      "execution_count": 90,
      "outputs": []
    },
    {
      "cell_type": "code",
      "source": [
        "NewDF.printSchema()"
      ],
      "metadata": {
        "colab": {
          "base_uri": "https://localhost:8080/"
        },
        "id": "62LJorAgiB5Z",
        "outputId": "178fcc19-8b67-4147-8ded-e7b9eb4e1bbb"
      },
      "execution_count": 91,
      "outputs": [
        {
          "output_type": "stream",
          "name": "stdout",
          "text": [
            "root\n",
            " |-- MinTemp: float (nullable = true)\n",
            " |-- MaxTemp: float (nullable = true)\n",
            " |-- Rainfall: float (nullable = true)\n",
            "\n"
          ]
        }
      ]
    },
    {
      "cell_type": "markdown",
      "source": [],
      "metadata": {
        "id": "bweTUALwWoRB"
      }
    },
    {
      "cell_type": "code",
      "source": [
        "#save file to csv from dataframe, overwrite if incase exists, write Headers from dataframe\n",
        "NewDF.write.csv('./sample_data/Weather_trimmed.csv', mode='overwrite', header=True)"
      ],
      "metadata": {
        "id": "QKS3cjb8i0Iz"
      },
      "execution_count": 95,
      "outputs": []
    },
    {
      "cell_type": "code",
      "source": [],
      "metadata": {
        "id": "fv9KkoyBj4JN"
      },
      "execution_count": null,
      "outputs": []
    }
  ]
}