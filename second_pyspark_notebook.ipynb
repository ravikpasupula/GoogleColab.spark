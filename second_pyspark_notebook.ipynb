{
  "nbformat": 4,
  "nbformat_minor": 0,
  "metadata": {
    "colab": {
      "provenance": [],
      "authorship_tag": "ABX9TyPZ8rk2w3eJBx7bvI3VkxSt",
      "include_colab_link": true
    },
    "kernelspec": {
      "name": "python3",
      "display_name": "Python 3"
    },
    "language_info": {
      "name": "python"
    }
  },
  "cells": [
    {
      "cell_type": "markdown",
      "metadata": {
        "id": "view-in-github",
        "colab_type": "text"
      },
      "source": [
        "<a href=\"https://colab.research.google.com/github/ravikpasupula/GoogleColab.spark/blob/main/second_pyspark_notebook.ipynb\" target=\"_parent\"><img src=\"https://colab.research.google.com/assets/colab-badge.svg\" alt=\"Open In Colab\"/></a>"
      ]
    },
    {
      "cell_type": "code",
      "execution_count": 1,
      "metadata": {
        "colab": {
          "base_uri": "https://localhost:8080/"
        },
        "id": "-CXFO5iLrDS1",
        "outputId": "561a0f81-ba79-4c16-a2ee-94d832f1bf72"
      },
      "outputs": [
        {
          "output_type": "stream",
          "name": "stdout",
          "text": [
            "Requirement already satisfied: pyspark in /usr/local/lib/python3.10/dist-packages (3.5.1)\n",
            "Requirement already satisfied: py4j==0.10.9.7 in /usr/local/lib/python3.10/dist-packages (from pyspark) (0.10.9.7)\n"
          ]
        }
      ],
      "source": [
        "!pip install pyspark"
      ]
    },
    {
      "cell_type": "code",
      "source": [
        "from pyspark.sql import SparkSession\n",
        "\n",
        "spark = SparkSession.builder\\\n",
        "        .master(\"local\")\\\n",
        "        .appName(\"Spark program\")\\\n",
        "        .config('spark.ui.port', '4050')\\\n",
        "        .getOrCreate()\n"
      ],
      "metadata": {
        "id": "-QN4YygNsELe"
      },
      "execution_count": 2,
      "outputs": []
    },
    {
      "cell_type": "code",
      "source": [
        "#import file into a dataframe\n",
        "df = spark.read.csv('./sample_data/people-1000.csv', header=True)"
      ],
      "metadata": {
        "id": "TuZnlZyZsyGq"
      },
      "execution_count": 5,
      "outputs": []
    },
    {
      "cell_type": "code",
      "source": [
        "from pyspark.sql.functions import col, asc, desc, lit, when\n",
        "#print dataframe schema\n",
        "df.printSchema()\n",
        "#print top 5 records order by Index desc\n",
        "df.sort(desc(\"Index\")).show(5)"
      ],
      "metadata": {
        "colab": {
          "base_uri": "https://localhost:8080/"
        },
        "id": "q5ZBYpY1tZHp",
        "outputId": "b29d80ec-1f73-4cd3-8f4d-0bf1dfde52c0"
      },
      "execution_count": 24,
      "outputs": [
        {
          "output_type": "stream",
          "name": "stdout",
          "text": [
            "root\n",
            " |-- Index: string (nullable = true)\n",
            " |-- User Id: string (nullable = true)\n",
            " |-- First Name: string (nullable = true)\n",
            " |-- Last Name: string (nullable = true)\n",
            " |-- Sex: string (nullable = true)\n",
            " |-- Email: string (nullable = true)\n",
            " |-- Phone: string (nullable = true)\n",
            " |-- Date of birth: string (nullable = true)\n",
            " |-- Job Title: string (nullable = true)\n",
            "\n",
            "+-----+---------------+----------+---------+------+--------------------+--------------------+-------------+--------------------+\n",
            "|Index|        User Id|First Name|Last Name|   Sex|               Email|               Phone|Date of birth|           Job Title|\n",
            "+-----+---------------+----------+---------+------+--------------------+--------------------+-------------+--------------------+\n",
            "|  999|Fb2FE369D1E171A|  Jermaine|   Phelps|  Male| wanda04@example.net|       (915)292-2254|   1971-08-31|    Ambulance person|\n",
            "|  998|2adde51d8B8979E|     Cathy| Mckinney|Female|georgechan@exampl...|+1-750-774-4128x3...|   1918-05-13|Commercial/reside...|\n",
            "|  997|ECddaFEDdEc4FAB|     Donna|    Barry|Female|dariusbryan@examp...|001-149-710-7799x721|   2001-10-06|Education adminis...|\n",
            "|  996|fedF4c7Fd9e7cFa|      Kurt|   Bryant|Female|lyonsdaisy@exampl...|        021.775.2933|   1959-01-05|   Personnel officer|\n",
            "|  995|E54d5DDEeE6569E|   Beverly|     Ball|  Male|charlenehuerta@ex...|    573-943-0389x380|   1995-07-01|Publishing rights...|\n",
            "+-----+---------------+----------+---------+------+--------------------+--------------------+-------------+--------------------+\n",
            "only showing top 5 rows\n",
            "\n"
          ]
        }
      ]
    },
    {
      "cell_type": "code",
      "source": [
        "#rename columns and load into a new df\n",
        "df1 = df.select(col(\"Index\").alias(\"Index_Id\"), col(\"User Id\").alias(\"User_Id\"), col(\"First Name\").alias(\"First_Name\"), col(\"Sex\").alias(\"Gender\"), \"Email\", \"Phone\", col(\"Date of birth\").alias(\"DOB\"), col(\"Job Title\").alias(\"Job_Title\"))\n",
        "\n",
        "df1.printSchema()"
      ],
      "metadata": {
        "id": "RLIddpDjtgeL",
        "colab": {
          "base_uri": "https://localhost:8080/"
        },
        "outputId": "e9a6471e-8ce5-400c-bd72-b136d127b267"
      },
      "execution_count": 12,
      "outputs": [
        {
          "output_type": "stream",
          "name": "stdout",
          "text": [
            "root\n",
            " |-- Index_Id: string (nullable = true)\n",
            " |-- User_Id: string (nullable = true)\n",
            " |-- First_Name: string (nullable = true)\n",
            " |-- Gender: string (nullable = true)\n",
            " |-- Email: string (nullable = true)\n",
            " |-- Phone: string (nullable = true)\n",
            " |-- DOB: string (nullable = true)\n",
            " |-- Job_Title: string (nullable = true)\n",
            "\n"
          ]
        }
      ]
    },
    {
      "cell_type": "code",
      "source": [
        "# Add new column \"Constant\" to existing dataframe df1 and give default value \"C\"\n",
        "#the new column is added to result but not dataframe, in order to assign you need to assign df again\n",
        "df1.withColumn('Constant', lit(\"C\")).show(5)"
      ],
      "metadata": {
        "colab": {
          "base_uri": "https://localhost:8080/"
        },
        "id": "DAf3vU76OTEq",
        "outputId": "0e0f72ed-f995-4bf8-a568-4446257372a9"
      },
      "execution_count": 29,
      "outputs": [
        {
          "output_type": "stream",
          "name": "stdout",
          "text": [
            "+--------+---------------+----------+------+--------------------+------------------+----------+--------------------+--------+\n",
            "|Index_Id|        User_Id|First_Name|Gender|               Email|             Phone|       DOB|           Job_Title|Constant|\n",
            "+--------+---------------+----------+------+--------------------+------------------+----------+--------------------+--------+\n",
            "|       1|8717bbf45cCDbEe|    Shelia|  Male| pwarner@example.org|      857.139.8239|2014-01-27|   Probation officer|       C|\n",
            "|       2|3d5AD30A4cD38ed|        Jo|Female|fergusonkatherine...|   +1-950-759-8687|1931-07-26|              Dancer|       C|\n",
            "|       3|810Ce0F276Badec|    Sheryl|Female| fhoward@example.org|     (599)782-0605|2013-11-25|                Copy|       C|\n",
            "|       4|BF2a889C00f0cE1|   Whitney|  Male|zjohnston@example...|   +1-939-130-6258|2012-11-17|Counselling psych...|       C|\n",
            "|       5|9afFEafAe1CBBB9|   Lindsey|Female|    elin@example.net|(390)417-1635x3010|1923-04-15| Biomedical engineer|       C|\n",
            "+--------+---------------+----------+------+--------------------+------------------+----------+--------------------+--------+\n",
            "only showing top 5 rows\n",
            "\n"
          ]
        }
      ]
    },
    {
      "cell_type": "code",
      "source": [
        "#using case statement derive a new column whe\n",
        "df2 = df1.withColumn('Constant', lit(\"C\"))\\\n",
        "      .withColumn('IsUSA', when(df1.Phone.like(\"%+1-%\"), 'Yes').otherwise('No'))"
      ],
      "metadata": {
        "id": "8NKffHi_QFdb"
      },
      "execution_count": 34,
      "outputs": []
    },
    {
      "cell_type": "code",
      "source": [
        "df2.printSchema()\n",
        "df2.show(5)"
      ],
      "metadata": {
        "colab": {
          "base_uri": "https://localhost:8080/"
        },
        "id": "4u0iGdxGRfIz",
        "outputId": "dbc95394-7a38-45dd-aebb-71edb82dcf54"
      },
      "execution_count": 35,
      "outputs": [
        {
          "output_type": "stream",
          "name": "stdout",
          "text": [
            "root\n",
            " |-- Index_Id: string (nullable = true)\n",
            " |-- User_Id: string (nullable = true)\n",
            " |-- First_Name: string (nullable = true)\n",
            " |-- Gender: string (nullable = true)\n",
            " |-- Email: string (nullable = true)\n",
            " |-- Phone: string (nullable = true)\n",
            " |-- DOB: string (nullable = true)\n",
            " |-- Job_Title: string (nullable = true)\n",
            " |-- Constant: string (nullable = false)\n",
            " |-- IsUSA: string (nullable = false)\n",
            "\n",
            "+--------+---------------+----------+------+--------------------+------------------+----------+--------------------+--------+-----+\n",
            "|Index_Id|        User_Id|First_Name|Gender|               Email|             Phone|       DOB|           Job_Title|Constant|IsUSA|\n",
            "+--------+---------------+----------+------+--------------------+------------------+----------+--------------------+--------+-----+\n",
            "|       1|8717bbf45cCDbEe|    Shelia|  Male| pwarner@example.org|      857.139.8239|2014-01-27|   Probation officer|       C|   No|\n",
            "|       2|3d5AD30A4cD38ed|        Jo|Female|fergusonkatherine...|   +1-950-759-8687|1931-07-26|              Dancer|       C|  Yes|\n",
            "|       3|810Ce0F276Badec|    Sheryl|Female| fhoward@example.org|     (599)782-0605|2013-11-25|                Copy|       C|   No|\n",
            "|       4|BF2a889C00f0cE1|   Whitney|  Male|zjohnston@example...|   +1-939-130-6258|2012-11-17|Counselling psych...|       C|  Yes|\n",
            "|       5|9afFEafAe1CBBB9|   Lindsey|Female|    elin@example.net|(390)417-1635x3010|1923-04-15| Biomedical engineer|       C|   No|\n",
            "+--------+---------------+----------+------+--------------------+------------------+----------+--------------------+--------+-----+\n",
            "only showing top 5 rows\n",
            "\n"
          ]
        }
      ]
    }
  ]
}